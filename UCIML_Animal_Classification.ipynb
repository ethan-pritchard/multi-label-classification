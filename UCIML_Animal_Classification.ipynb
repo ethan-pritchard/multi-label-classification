{
  "nbformat": 4,
  "nbformat_minor": 0,
  "metadata": {
    "colab": {
      "name": "UCIML Animal Classification.ipynb",
      "provenance": [],
      "collapsed_sections": [],
      "authorship_tag": "ABX9TyPd6MPFlQ9DrXnlV2uSUNjV"
    },
    "kernelspec": {
      "name": "python3",
      "display_name": "Python 3"
    }
  },
  "cells": [
    {
      "cell_type": "markdown",
      "metadata": {
        "id": "AznVbL2oAqC_"
      },
      "source": [
        "# UCI Machine Learning Datasets: Animals (Multi-label Categorical)\r\n",
        "\r\n",
        "This notebook utilizes modern machine learning techniques to create solutions for the elementary animal zoo dataset.\r\n",
        "\r\n",
        "UC Irvine's Machine Learning department houses many datasets. These datasets are designed to be extremely reliable and allow algorithms to create excellent solutions. The UCI ML animal dataset provides quantifiable features and multiple categories to classify an animal. The animals are given their proper name as well, but for the scope of this notebook they are disregarded.\r\n",
        "\r\n",
        "This problem is a **multi-label categorical classification problem**, one of the most common classification problems in machine learning. The key to categorical classification is creating or finding datasets that fully represent all available categories in a balanced fashion. For example, the UCI ML animals dataset is relatively balanced and has datapoints for all seven categories. If the dataset contained thousands of animals, the result would only become more precise. However, this comes with the limitation of having to rebuild our model from scratch when a new multi-label category is introduced. \r\n",
        "\r\n",
        "Multi-label classification also relies on **softmax** activation in the output layer to finalize. [Softmax activation](https://medium.com/data-science-bootcamp/understand-the-softmax-function-in-minutes-f3a59641e86d) is an algorithm that assigns normalized probabilities for each label. The algorithm does this by looking at the output vector of a model (length = # of labels). Softmax activation is only mentioned to give context to the TensorFlow model featured in this notebook."
      ]
    },
    {
      "cell_type": "code",
      "metadata": {
        "id": "dm-z4qILvIH_"
      },
      "source": [
        "import numpy as np\r\n",
        "import pandas as pd\r\n",
        "import matplotlib.pyplot as plt\r\n",
        "import itertools\r\n",
        "import tensorflow as tf\r\n",
        "\r\n",
        "from sklearn.preprocessing import OneHotEncoder\r\n",
        "from sklearn.model_selection import train_test_split"
      ],
      "execution_count": 235,
      "outputs": []
    },
    {
      "cell_type": "code",
      "metadata": {
        "id": "Z8sByxOAuupl"
      },
      "source": [
        "# A method that plots a confusion matrix nicely\r\n",
        "def plot_confusion_matrix(cm, target_names, title='Confusion matrix', cmap=None, normalize=True):\r\n",
        "  accuracy = np.trace(cm) / float(np.sum(cm))\r\n",
        "  misclass = 1 - accuracy\r\n",
        "\r\n",
        "  if cmap is None:\r\n",
        "    cmap = plt.get_cmap('Blues')\r\n",
        "\r\n",
        "  plt.figure(figsize=(8, 6))\r\n",
        "  plt.imshow(cm, interpolation='nearest', cmap=cmap)\r\n",
        "  plt.title(title)\r\n",
        "  plt.colorbar()\r\n",
        "\r\n",
        "  if target_names is not None:\r\n",
        "    tick_marks = np.arange(len(target_names))\r\n",
        "    plt.xticks(tick_marks, target_names, rotation=45)\r\n",
        "    plt.yticks(tick_marks, target_names)\r\n",
        "\r\n",
        "    if normalize: cm = cm.astype('float') / cm.sum(axis=1)[:, np.newaxis]\r\n",
        "\r\n",
        "    thresh = cm.max() / 1.5 if normalize else cm.max() / 2\r\n",
        "    for i, j in itertools.product(range(cm.shape[0]), range(cm.shape[1])):\r\n",
        "      if normalize: plt.text(j, i, \"{:0.4f}\".format(cm[i, j]), horizontalalignment=\"center\", color=\"white\" if cm[i, j] > thresh else \"black\")\r\n",
        "      else: plt.text(j, i, \"{:,}\".format(cm[i, j]), horizontalalignment=\"center\", color=\"white\" if cm[i, j] > thresh else \"black\")\r\n",
        "\r\n",
        "    plt.tight_layout()\r\n",
        "    plt.ylabel('True label')\r\n",
        "    plt.xlabel('Predicted label\\naccuracy={:0.4f}; misclass={:0.4f}'.format(accuracy, misclass))\r\n",
        "    plt.show()"
      ],
      "execution_count": 236,
      "outputs": []
    },
    {
      "cell_type": "code",
      "metadata": {
        "id": "AsXuQuUr5iWd"
      },
      "source": [
        "# Function to encode the classifier\r\n",
        "def enc_class(c):\r\n",
        "  return np.array([1 if c==i else 0 for i in range(num_classes)], dtype='float64')"
      ],
      "execution_count": 237,
      "outputs": []
    },
    {
      "cell_type": "markdown",
      "metadata": {
        "id": "pKAo2025wzNb"
      },
      "source": [
        "### Data Preparation"
      ]
    },
    {
      "cell_type": "code",
      "metadata": {
        "id": "xqraVbd8w0rU"
      },
      "source": [
        "# Load the raw data\r\n",
        "df = pd.read_csv('zoo.csv')"
      ],
      "execution_count": 238,
      "outputs": []
    },
    {
      "cell_type": "code",
      "metadata": {
        "colab": {
          "base_uri": "https://localhost:8080/",
          "height": 238
        },
        "id": "t4yinj9AxBtF",
        "outputId": "89a5fb96-10b4-4ee7-b36a-e5babdde4caa"
      },
      "source": [
        "print('Zoo DataFrame')\r\n",
        "print(df.shape)\r\n",
        "df.head()"
      ],
      "execution_count": 239,
      "outputs": [
        {
          "output_type": "stream",
          "text": [
            "Zoo DataFrame\n",
            "(101, 18)\n"
          ],
          "name": "stdout"
        },
        {
          "output_type": "execute_result",
          "data": {
            "text/html": [
              "<div>\n",
              "<style scoped>\n",
              "    .dataframe tbody tr th:only-of-type {\n",
              "        vertical-align: middle;\n",
              "    }\n",
              "\n",
              "    .dataframe tbody tr th {\n",
              "        vertical-align: top;\n",
              "    }\n",
              "\n",
              "    .dataframe thead th {\n",
              "        text-align: right;\n",
              "    }\n",
              "</style>\n",
              "<table border=\"1\" class=\"dataframe\">\n",
              "  <thead>\n",
              "    <tr style=\"text-align: right;\">\n",
              "      <th></th>\n",
              "      <th>animal_name</th>\n",
              "      <th>hair</th>\n",
              "      <th>feathers</th>\n",
              "      <th>eggs</th>\n",
              "      <th>milk</th>\n",
              "      <th>airborne</th>\n",
              "      <th>aquatic</th>\n",
              "      <th>predator</th>\n",
              "      <th>toothed</th>\n",
              "      <th>backbone</th>\n",
              "      <th>breathes</th>\n",
              "      <th>venomous</th>\n",
              "      <th>fins</th>\n",
              "      <th>legs</th>\n",
              "      <th>tail</th>\n",
              "      <th>domestic</th>\n",
              "      <th>catsize</th>\n",
              "      <th>class_type</th>\n",
              "    </tr>\n",
              "  </thead>\n",
              "  <tbody>\n",
              "    <tr>\n",
              "      <th>0</th>\n",
              "      <td>aardvark</td>\n",
              "      <td>1</td>\n",
              "      <td>0</td>\n",
              "      <td>0</td>\n",
              "      <td>1</td>\n",
              "      <td>0</td>\n",
              "      <td>0</td>\n",
              "      <td>1</td>\n",
              "      <td>1</td>\n",
              "      <td>1</td>\n",
              "      <td>1</td>\n",
              "      <td>0</td>\n",
              "      <td>0</td>\n",
              "      <td>4</td>\n",
              "      <td>0</td>\n",
              "      <td>0</td>\n",
              "      <td>1</td>\n",
              "      <td>1</td>\n",
              "    </tr>\n",
              "    <tr>\n",
              "      <th>1</th>\n",
              "      <td>antelope</td>\n",
              "      <td>1</td>\n",
              "      <td>0</td>\n",
              "      <td>0</td>\n",
              "      <td>1</td>\n",
              "      <td>0</td>\n",
              "      <td>0</td>\n",
              "      <td>0</td>\n",
              "      <td>1</td>\n",
              "      <td>1</td>\n",
              "      <td>1</td>\n",
              "      <td>0</td>\n",
              "      <td>0</td>\n",
              "      <td>4</td>\n",
              "      <td>1</td>\n",
              "      <td>0</td>\n",
              "      <td>1</td>\n",
              "      <td>1</td>\n",
              "    </tr>\n",
              "    <tr>\n",
              "      <th>2</th>\n",
              "      <td>bass</td>\n",
              "      <td>0</td>\n",
              "      <td>0</td>\n",
              "      <td>1</td>\n",
              "      <td>0</td>\n",
              "      <td>0</td>\n",
              "      <td>1</td>\n",
              "      <td>1</td>\n",
              "      <td>1</td>\n",
              "      <td>1</td>\n",
              "      <td>0</td>\n",
              "      <td>0</td>\n",
              "      <td>1</td>\n",
              "      <td>0</td>\n",
              "      <td>1</td>\n",
              "      <td>0</td>\n",
              "      <td>0</td>\n",
              "      <td>4</td>\n",
              "    </tr>\n",
              "    <tr>\n",
              "      <th>3</th>\n",
              "      <td>bear</td>\n",
              "      <td>1</td>\n",
              "      <td>0</td>\n",
              "      <td>0</td>\n",
              "      <td>1</td>\n",
              "      <td>0</td>\n",
              "      <td>0</td>\n",
              "      <td>1</td>\n",
              "      <td>1</td>\n",
              "      <td>1</td>\n",
              "      <td>1</td>\n",
              "      <td>0</td>\n",
              "      <td>0</td>\n",
              "      <td>4</td>\n",
              "      <td>0</td>\n",
              "      <td>0</td>\n",
              "      <td>1</td>\n",
              "      <td>1</td>\n",
              "    </tr>\n",
              "    <tr>\n",
              "      <th>4</th>\n",
              "      <td>boar</td>\n",
              "      <td>1</td>\n",
              "      <td>0</td>\n",
              "      <td>0</td>\n",
              "      <td>1</td>\n",
              "      <td>0</td>\n",
              "      <td>0</td>\n",
              "      <td>1</td>\n",
              "      <td>1</td>\n",
              "      <td>1</td>\n",
              "      <td>1</td>\n",
              "      <td>0</td>\n",
              "      <td>0</td>\n",
              "      <td>4</td>\n",
              "      <td>1</td>\n",
              "      <td>0</td>\n",
              "      <td>1</td>\n",
              "      <td>1</td>\n",
              "    </tr>\n",
              "  </tbody>\n",
              "</table>\n",
              "</div>"
            ],
            "text/plain": [
              "  animal_name  hair  feathers  eggs  ...  tail  domestic  catsize  class_type\n",
              "0    aardvark     1         0     0  ...     0         0        1           1\n",
              "1    antelope     1         0     0  ...     1         0        1           1\n",
              "2        bass     0         0     1  ...     1         0        0           4\n",
              "3        bear     1         0     0  ...     0         0        1           1\n",
              "4        boar     1         0     0  ...     1         0        1           1\n",
              "\n",
              "[5 rows x 18 columns]"
            ]
          },
          "metadata": {
            "tags": []
          },
          "execution_count": 239
        }
      ]
    },
    {
      "cell_type": "code",
      "metadata": {
        "colab": {
          "base_uri": "https://localhost:8080/"
        },
        "id": "ClQ3bgE2xNZ_",
        "outputId": "8a033cd5-6066-463a-da10-83f5c5fcf9c9"
      },
      "source": [
        "# Check for null values\r\n",
        "df.isnull().sum()"
      ],
      "execution_count": 240,
      "outputs": [
        {
          "output_type": "execute_result",
          "data": {
            "text/plain": [
              "animal_name    0\n",
              "hair           0\n",
              "feathers       0\n",
              "eggs           0\n",
              "milk           0\n",
              "airborne       0\n",
              "aquatic        0\n",
              "predator       0\n",
              "toothed        0\n",
              "backbone       0\n",
              "breathes       0\n",
              "venomous       0\n",
              "fins           0\n",
              "legs           0\n",
              "tail           0\n",
              "domestic       0\n",
              "catsize        0\n",
              "class_type     0\n",
              "dtype: int64"
            ]
          },
          "metadata": {
            "tags": []
          },
          "execution_count": 240
        }
      ]
    },
    {
      "cell_type": "code",
      "metadata": {
        "colab": {
          "base_uri": "https://localhost:8080/"
        },
        "id": "pz1mclHHxPzm",
        "outputId": "f29210ae-e303-469a-deea-7865aafdfe05"
      },
      "source": [
        "# Get unique class names\r\n",
        "num_classes = len(df['class_type'].unique())\r\n",
        "df['class_type'].unique()"
      ],
      "execution_count": 241,
      "outputs": [
        {
          "output_type": "execute_result",
          "data": {
            "text/plain": [
              "array([1, 4, 2, 7, 6, 5, 3])"
            ]
          },
          "metadata": {
            "tags": []
          },
          "execution_count": 241
        }
      ]
    },
    {
      "cell_type": "code",
      "metadata": {
        "colab": {
          "base_uri": "https://localhost:8080/"
        },
        "id": "Q0C0B0xCxT7Z",
        "outputId": "6072e4a9-37fc-4aa7-bceb-aba441c436b5"
      },
      "source": [
        "# Check for dataset balance\r\n",
        "df['class_type'].value_counts().sort_index()"
      ],
      "execution_count": 242,
      "outputs": [
        {
          "output_type": "execute_result",
          "data": {
            "text/plain": [
              "1    41\n",
              "2    20\n",
              "3     5\n",
              "4    13\n",
              "5     4\n",
              "6     8\n",
              "7    10\n",
              "Name: class_type, dtype: int64"
            ]
          },
          "metadata": {
            "tags": []
          },
          "execution_count": 242
        }
      ]
    },
    {
      "cell_type": "code",
      "metadata": {
        "colab": {
          "base_uri": "https://localhost:8080/"
        },
        "id": "8fjFnscFz9pk",
        "outputId": "e23fc5bc-6721-4d84-d450-92e185108049"
      },
      "source": [
        "# Create the encoder\r\n",
        "enc = OneHotEncoder()\r\n",
        "enc"
      ],
      "execution_count": 243,
      "outputs": [
        {
          "output_type": "execute_result",
          "data": {
            "text/plain": [
              "OneHotEncoder(categories='auto', drop=None, dtype=<class 'numpy.float64'>,\n",
              "              handle_unknown='error', sparse=True)"
            ]
          },
          "metadata": {
            "tags": []
          },
          "execution_count": 243
        }
      ]
    },
    {
      "cell_type": "code",
      "metadata": {
        "colab": {
          "base_uri": "https://localhost:8080/",
          "height": 204
        },
        "id": "K_Mtkft00jp_",
        "outputId": "6fd1b8af-b00b-4264-8fb8-b4f4586f00ff"
      },
      "source": [
        "# Remove the animal name column as it's not a feature\r\n",
        "df = df.drop(['animal_name'], axis=1)\r\n",
        "df.head()"
      ],
      "execution_count": 244,
      "outputs": [
        {
          "output_type": "execute_result",
          "data": {
            "text/html": [
              "<div>\n",
              "<style scoped>\n",
              "    .dataframe tbody tr th:only-of-type {\n",
              "        vertical-align: middle;\n",
              "    }\n",
              "\n",
              "    .dataframe tbody tr th {\n",
              "        vertical-align: top;\n",
              "    }\n",
              "\n",
              "    .dataframe thead th {\n",
              "        text-align: right;\n",
              "    }\n",
              "</style>\n",
              "<table border=\"1\" class=\"dataframe\">\n",
              "  <thead>\n",
              "    <tr style=\"text-align: right;\">\n",
              "      <th></th>\n",
              "      <th>hair</th>\n",
              "      <th>feathers</th>\n",
              "      <th>eggs</th>\n",
              "      <th>milk</th>\n",
              "      <th>airborne</th>\n",
              "      <th>aquatic</th>\n",
              "      <th>predator</th>\n",
              "      <th>toothed</th>\n",
              "      <th>backbone</th>\n",
              "      <th>breathes</th>\n",
              "      <th>venomous</th>\n",
              "      <th>fins</th>\n",
              "      <th>legs</th>\n",
              "      <th>tail</th>\n",
              "      <th>domestic</th>\n",
              "      <th>catsize</th>\n",
              "      <th>class_type</th>\n",
              "    </tr>\n",
              "  </thead>\n",
              "  <tbody>\n",
              "    <tr>\n",
              "      <th>0</th>\n",
              "      <td>1</td>\n",
              "      <td>0</td>\n",
              "      <td>0</td>\n",
              "      <td>1</td>\n",
              "      <td>0</td>\n",
              "      <td>0</td>\n",
              "      <td>1</td>\n",
              "      <td>1</td>\n",
              "      <td>1</td>\n",
              "      <td>1</td>\n",
              "      <td>0</td>\n",
              "      <td>0</td>\n",
              "      <td>4</td>\n",
              "      <td>0</td>\n",
              "      <td>0</td>\n",
              "      <td>1</td>\n",
              "      <td>1</td>\n",
              "    </tr>\n",
              "    <tr>\n",
              "      <th>1</th>\n",
              "      <td>1</td>\n",
              "      <td>0</td>\n",
              "      <td>0</td>\n",
              "      <td>1</td>\n",
              "      <td>0</td>\n",
              "      <td>0</td>\n",
              "      <td>0</td>\n",
              "      <td>1</td>\n",
              "      <td>1</td>\n",
              "      <td>1</td>\n",
              "      <td>0</td>\n",
              "      <td>0</td>\n",
              "      <td>4</td>\n",
              "      <td>1</td>\n",
              "      <td>0</td>\n",
              "      <td>1</td>\n",
              "      <td>1</td>\n",
              "    </tr>\n",
              "    <tr>\n",
              "      <th>2</th>\n",
              "      <td>0</td>\n",
              "      <td>0</td>\n",
              "      <td>1</td>\n",
              "      <td>0</td>\n",
              "      <td>0</td>\n",
              "      <td>1</td>\n",
              "      <td>1</td>\n",
              "      <td>1</td>\n",
              "      <td>1</td>\n",
              "      <td>0</td>\n",
              "      <td>0</td>\n",
              "      <td>1</td>\n",
              "      <td>0</td>\n",
              "      <td>1</td>\n",
              "      <td>0</td>\n",
              "      <td>0</td>\n",
              "      <td>4</td>\n",
              "    </tr>\n",
              "    <tr>\n",
              "      <th>3</th>\n",
              "      <td>1</td>\n",
              "      <td>0</td>\n",
              "      <td>0</td>\n",
              "      <td>1</td>\n",
              "      <td>0</td>\n",
              "      <td>0</td>\n",
              "      <td>1</td>\n",
              "      <td>1</td>\n",
              "      <td>1</td>\n",
              "      <td>1</td>\n",
              "      <td>0</td>\n",
              "      <td>0</td>\n",
              "      <td>4</td>\n",
              "      <td>0</td>\n",
              "      <td>0</td>\n",
              "      <td>1</td>\n",
              "      <td>1</td>\n",
              "    </tr>\n",
              "    <tr>\n",
              "      <th>4</th>\n",
              "      <td>1</td>\n",
              "      <td>0</td>\n",
              "      <td>0</td>\n",
              "      <td>1</td>\n",
              "      <td>0</td>\n",
              "      <td>0</td>\n",
              "      <td>1</td>\n",
              "      <td>1</td>\n",
              "      <td>1</td>\n",
              "      <td>1</td>\n",
              "      <td>0</td>\n",
              "      <td>0</td>\n",
              "      <td>4</td>\n",
              "      <td>1</td>\n",
              "      <td>0</td>\n",
              "      <td>1</td>\n",
              "      <td>1</td>\n",
              "    </tr>\n",
              "  </tbody>\n",
              "</table>\n",
              "</div>"
            ],
            "text/plain": [
              "   hair  feathers  eggs  milk  ...  tail  domestic  catsize  class_type\n",
              "0     1         0     0     1  ...     0         0        1           1\n",
              "1     1         0     0     1  ...     1         0        1           1\n",
              "2     0         0     1     0  ...     1         0        0           4\n",
              "3     1         0     0     1  ...     0         0        1           1\n",
              "4     1         0     0     1  ...     1         0        1           1\n",
              "\n",
              "[5 rows x 17 columns]"
            ]
          },
          "metadata": {
            "tags": []
          },
          "execution_count": 244
        }
      ]
    },
    {
      "cell_type": "code",
      "metadata": {
        "colab": {
          "base_uri": "https://localhost:8080/"
        },
        "id": "mnl1X1Iy0DSg",
        "outputId": "a8ac6716-0278-4376-acb0-c58671c1bdbb"
      },
      "source": [
        "# Encode the dataset\r\n",
        "df_enc = enc.fit_transform(df).toarray()\r\n",
        "df_enc"
      ],
      "execution_count": 245,
      "outputs": [
        {
          "output_type": "execute_result",
          "data": {
            "text/plain": [
              "array([[0., 1., 1., ..., 0., 0., 0.],\n",
              "       [0., 1., 1., ..., 0., 0., 0.],\n",
              "       [1., 0., 1., ..., 0., 0., 0.],\n",
              "       ...,\n",
              "       [0., 1., 1., ..., 0., 0., 0.],\n",
              "       [1., 0., 1., ..., 0., 0., 1.],\n",
              "       [1., 0., 0., ..., 0., 0., 0.]])"
            ]
          },
          "metadata": {
            "tags": []
          },
          "execution_count": 245
        }
      ]
    },
    {
      "cell_type": "code",
      "metadata": {
        "colab": {
          "base_uri": "https://localhost:8080/"
        },
        "id": "Lno9r9gX0JcQ",
        "outputId": "6520b0e7-23ba-4268-d6b8-4e02ec5f0b18"
      },
      "source": [
        "# Calculate feature names for presentation\r\n",
        "enc_names = enc.get_feature_names(df.columns)\r\n",
        "enc_names"
      ],
      "execution_count": 246,
      "outputs": [
        {
          "output_type": "execute_result",
          "data": {
            "text/plain": [
              "array(['hair_0', 'hair_1', 'feathers_0', 'feathers_1', 'eggs_0', 'eggs_1',\n",
              "       'milk_0', 'milk_1', 'airborne_0', 'airborne_1', 'aquatic_0',\n",
              "       'aquatic_1', 'predator_0', 'predator_1', 'toothed_0', 'toothed_1',\n",
              "       'backbone_0', 'backbone_1', 'breathes_0', 'breathes_1',\n",
              "       'venomous_0', 'venomous_1', 'fins_0', 'fins_1', 'legs_0', 'legs_2',\n",
              "       'legs_4', 'legs_5', 'legs_6', 'legs_8', 'tail_0', 'tail_1',\n",
              "       'domestic_0', 'domestic_1', 'catsize_0', 'catsize_1',\n",
              "       'class_type_1', 'class_type_2', 'class_type_3', 'class_type_4',\n",
              "       'class_type_5', 'class_type_6', 'class_type_7'], dtype=object)"
            ]
          },
          "metadata": {
            "tags": []
          },
          "execution_count": 246
        }
      ]
    },
    {
      "cell_type": "code",
      "metadata": {
        "colab": {
          "base_uri": "https://localhost:8080/",
          "height": 35
        },
        "id": "Y7AwITgS0sa6",
        "outputId": "6c5cc82c-ada8-4065-fd8f-01fb05119e5b"
      },
      "source": [
        "'Number of Encoded Features (Including Classification): {}'.format(len(enc_names))"
      ],
      "execution_count": 247,
      "outputs": [
        {
          "output_type": "execute_result",
          "data": {
            "application/vnd.google.colaboratory.intrinsic+json": {
              "type": "string"
            },
            "text/plain": [
              "'Number of Encoded Features (Including Classification): 43'"
            ]
          },
          "metadata": {
            "tags": []
          },
          "execution_count": 247
        }
      ]
    },
    {
      "cell_type": "code",
      "metadata": {
        "colab": {
          "base_uri": "https://localhost:8080/",
          "height": 35
        },
        "id": "CDTIr3tl07RM",
        "outputId": "128403ca-a8ae-462e-d617-57bbdb7ab3ab"
      },
      "source": [
        "'Number of Encoded Features (Excluding Classification): {}'.format(len(enc_names) - num_classes)"
      ],
      "execution_count": 248,
      "outputs": [
        {
          "output_type": "execute_result",
          "data": {
            "application/vnd.google.colaboratory.intrinsic+json": {
              "type": "string"
            },
            "text/plain": [
              "'Number of Encoded Features (Excluding Classification): 36'"
            ]
          },
          "metadata": {
            "tags": []
          },
          "execution_count": 248
        }
      ]
    },
    {
      "cell_type": "code",
      "metadata": {
        "id": "F5uPgToU04sd"
      },
      "source": [
        "# Split the encoded dataset into train and test groups\r\n",
        "train, test = train_test_split(df_enc)"
      ],
      "execution_count": 249,
      "outputs": []
    },
    {
      "cell_type": "code",
      "metadata": {
        "colab": {
          "base_uri": "https://localhost:8080/"
        },
        "id": "m3da77DC1Hyw",
        "outputId": "89c6b27d-f496-4845-8e5c-70eef5f5d28a"
      },
      "source": [
        "# Get size of the datasets\r\n",
        "print('Train Size: {}'.format(len(train)))\r\n",
        "print('Test Size: {}'.format(len(test)))"
      ],
      "execution_count": 250,
      "outputs": [
        {
          "output_type": "stream",
          "text": [
            "Train Size: 75\n",
            "Test Size: 26\n"
          ],
          "name": "stdout"
        }
      ]
    },
    {
      "cell_type": "code",
      "metadata": {
        "id": "3Q10NLzn1IfM"
      },
      "source": [
        "# Split the datasets into x and y\r\n",
        "train_x = train[:,:-num_classes]\r\n",
        "train_y = train[:,-num_classes:]\r\n",
        "test_x = test[:,:-num_classes]\r\n",
        "test_y = test[:,-num_classes:]"
      ],
      "execution_count": 251,
      "outputs": []
    },
    {
      "cell_type": "code",
      "metadata": {
        "id": "W_--npA7_hV3"
      },
      "source": [
        "# Use argmax to find labels. Useful for comparing predictions!\r\n",
        "train_y_max = np.argmax(train_y, axis=1)\r\n",
        "test_y_max = np.argmax(test_y, axis=1) "
      ],
      "execution_count": 252,
      "outputs": []
    },
    {
      "cell_type": "code",
      "metadata": {
        "colab": {
          "base_uri": "https://localhost:8080/"
        },
        "id": "msjIsybZ1Nub",
        "outputId": "4b644d2a-c2c2-47f7-c839-ec1fc9221051"
      },
      "source": [
        "print(train_x[:10])\r\n",
        "print(train_y[:10])\r\n",
        "print(test_x[:10])\r\n",
        "print(test_y[:10])"
      ],
      "execution_count": 253,
      "outputs": [
        {
          "output_type": "stream",
          "text": [
            "[[1. 0. 1. 0. 0. 1. 1. 0. 1. 0. 0. 1. 0. 1. 1. 0. 1. 0. 1. 0. 1. 0. 1. 0.\n",
            "  0. 0. 0. 0. 1. 0. 1. 0. 1. 0. 1. 0.]\n",
            " [1. 0. 1. 0. 0. 1. 1. 0. 1. 0. 0. 1. 1. 0. 0. 1. 0. 1. 1. 0. 1. 0. 0. 1.\n",
            "  1. 0. 0. 0. 0. 0. 0. 1. 1. 0. 1. 0.]\n",
            " [0. 1. 1. 0. 1. 0. 0. 1. 1. 0. 1. 0. 0. 1. 0. 1. 0. 1. 0. 1. 1. 0. 1. 0.\n",
            "  0. 0. 1. 0. 0. 0. 0. 1. 1. 0. 0. 1.]\n",
            " [1. 0. 0. 1. 0. 1. 1. 0. 0. 1. 0. 1. 1. 0. 1. 0. 0. 1. 0. 1. 1. 0. 1. 0.\n",
            "  0. 1. 0. 0. 0. 0. 0. 1. 1. 0. 0. 1.]\n",
            " [1. 0. 1. 0. 0. 1. 1. 0. 1. 0. 0. 1. 0. 1. 0. 1. 0. 1. 1. 0. 1. 0. 0. 1.\n",
            "  1. 0. 0. 0. 0. 0. 0. 1. 1. 0. 1. 0.]\n",
            " [1. 0. 1. 0. 0. 1. 1. 0. 1. 0. 1. 0. 1. 0. 1. 0. 1. 0. 0. 1. 1. 0. 1. 0.\n",
            "  0. 0. 0. 0. 1. 0. 1. 0. 1. 0. 1. 0.]\n",
            " [0. 1. 1. 0. 0. 1. 1. 0. 0. 1. 1. 0. 1. 0. 1. 0. 1. 0. 0. 1. 1. 0. 1. 0.\n",
            "  0. 0. 0. 0. 1. 0. 1. 0. 1. 0. 1. 0.]\n",
            " [0. 1. 1. 0. 1. 0. 0. 1. 1. 0. 1. 0. 1. 0. 0. 1. 0. 1. 0. 1. 1. 0. 1. 0.\n",
            "  0. 0. 1. 0. 0. 0. 0. 1. 0. 1. 0. 1.]\n",
            " [1. 0. 1. 0. 0. 1. 1. 0. 1. 0. 0. 1. 0. 1. 0. 1. 0. 1. 1. 0. 0. 1. 0. 1.\n",
            "  1. 0. 0. 0. 0. 0. 0. 1. 1. 0. 0. 1.]\n",
            " [1. 0. 1. 0. 0. 1. 1. 0. 1. 0. 1. 0. 0. 1. 0. 1. 0. 1. 0. 1. 1. 0. 1. 0.\n",
            "  0. 0. 1. 0. 0. 0. 0. 1. 1. 0. 1. 0.]]\n",
            "[[0. 0. 0. 0. 0. 0. 1.]\n",
            " [0. 0. 0. 1. 0. 0. 0.]\n",
            " [1. 0. 0. 0. 0. 0. 0.]\n",
            " [0. 1. 0. 0. 0. 0. 0.]\n",
            " [0. 0. 0. 1. 0. 0. 0.]\n",
            " [0. 0. 0. 0. 0. 1. 0.]\n",
            " [0. 0. 0. 0. 0. 1. 0.]\n",
            " [1. 0. 0. 0. 0. 0. 0.]\n",
            " [0. 0. 0. 1. 0. 0. 0.]\n",
            " [0. 0. 1. 0. 0. 0. 0.]]\n",
            "[[0. 1. 1. 0. 1. 0. 0. 1. 1. 0. 1. 0. 0. 1. 0. 1. 0. 1. 0. 1. 1. 0. 1. 0.\n",
            "  0. 0. 1. 0. 0. 0. 0. 1. 0. 1. 0. 1.]\n",
            " [1. 0. 1. 0. 0. 1. 1. 0. 1. 0. 0. 1. 0. 1. 0. 1. 0. 1. 1. 0. 1. 0. 0. 1.\n",
            "  1. 0. 0. 0. 0. 0. 0. 1. 1. 0. 0. 1.]\n",
            " [0. 1. 1. 0. 1. 0. 0. 1. 1. 0. 1. 0. 0. 1. 0. 1. 0. 1. 0. 1. 1. 0. 1. 0.\n",
            "  0. 0. 1. 0. 0. 0. 0. 1. 1. 0. 0. 1.]\n",
            " [1. 0. 1. 0. 0. 1. 1. 0. 1. 0. 0. 1. 0. 1. 0. 1. 0. 1. 1. 0. 1. 0. 0. 1.\n",
            "  1. 0. 0. 0. 0. 0. 0. 1. 1. 0. 1. 0.]\n",
            " [1. 0. 0. 1. 0. 1. 1. 0. 0. 1. 0. 1. 1. 0. 1. 0. 0. 1. 0. 1. 1. 0. 1. 0.\n",
            "  0. 1. 0. 0. 0. 0. 0. 1. 1. 0. 1. 0.]\n",
            " [1. 0. 1. 0. 0. 1. 1. 0. 1. 0. 0. 1. 0. 1. 1. 0. 1. 0. 1. 0. 0. 1. 1. 0.\n",
            "  1. 0. 0. 0. 0. 0. 1. 0. 1. 0. 1. 0.]\n",
            " [0. 1. 1. 0. 1. 0. 0. 1. 1. 0. 1. 0. 1. 0. 0. 1. 0. 1. 0. 1. 1. 0. 1. 0.\n",
            "  0. 0. 1. 0. 0. 0. 0. 1. 1. 0. 0. 1.]\n",
            " [1. 0. 0. 1. 0. 1. 1. 0. 0. 1. 0. 1. 0. 1. 1. 0. 0. 1. 0. 1. 1. 0. 1. 0.\n",
            "  0. 1. 0. 0. 0. 0. 0. 1. 1. 0. 1. 0.]\n",
            " [0. 1. 1. 0. 1. 0. 0. 1. 1. 0. 1. 0. 0. 1. 0. 1. 0. 1. 0. 1. 1. 0. 1. 0.\n",
            "  0. 0. 1. 0. 0. 0. 0. 1. 1. 0. 0. 1.]\n",
            " [0. 1. 1. 0. 1. 0. 0. 1. 1. 0. 1. 0. 0. 1. 0. 1. 0. 1. 0. 1. 1. 0. 1. 0.\n",
            "  0. 0. 1. 0. 0. 0. 0. 1. 1. 0. 0. 1.]]\n",
            "[[1. 0. 0. 0. 0. 0. 0.]\n",
            " [0. 0. 0. 1. 0. 0. 0.]\n",
            " [1. 0. 0. 0. 0. 0. 0.]\n",
            " [0. 0. 0. 1. 0. 0. 0.]\n",
            " [0. 1. 0. 0. 0. 0. 0.]\n",
            " [0. 0. 0. 0. 0. 0. 1.]\n",
            " [1. 0. 0. 0. 0. 0. 0.]\n",
            " [0. 1. 0. 0. 0. 0. 0.]\n",
            " [1. 0. 0. 0. 0. 0. 0.]\n",
            " [1. 0. 0. 0. 0. 0. 0.]]\n"
          ],
          "name": "stdout"
        }
      ]
    },
    {
      "cell_type": "markdown",
      "metadata": {
        "id": "FNljeuk_zIDr"
      },
      "source": [
        "### Model: TensorFlow 3-Layer Sequential Neural Network\r\n",
        "\r\n",
        "Because the features in the dataset are easily encodable (some even come coded) and contains no null values, this problem is perfect for a neural network. The only problem would be **dataset bias**, or the event where the neural network performs great on the dataset it was fit to but performs poorly on extensions of the dataset."
      ]
    },
    {
      "cell_type": "code",
      "metadata": {
        "id": "ntUuxZo4zF8H"
      },
      "source": [
        "from keras.models import Sequential\r\n",
        "from keras.layers import Input, Activation, Dense"
      ],
      "execution_count": 254,
      "outputs": []
    },
    {
      "cell_type": "code",
      "metadata": {
        "id": "K3xfHbXx2ZzK"
      },
      "source": [
        "# Create the neural network\r\n",
        "nn = Sequential()"
      ],
      "execution_count": 255,
      "outputs": []
    },
    {
      "cell_type": "code",
      "metadata": {
        "id": "Lrs1aB412aoF"
      },
      "source": [
        "# Add layers to the model\r\n",
        "nn.add(Input(train_x.shape[1]))\r\n",
        "nn.add(Dense(8))\r\n",
        "nn.add(Activation('sigmoid'))\r\n",
        "nn.add(Dense(num_classes))\r\n",
        "nn.add(Activation('softmax')) # 'softmax' activation for multi-class categorical classification"
      ],
      "execution_count": 256,
      "outputs": []
    },
    {
      "cell_type": "code",
      "metadata": {
        "id": "rdXHxCbf2m92"
      },
      "source": [
        "# Compile the neural network\r\n",
        "nn.compile(loss='categorical_crossentropy', optimizer='adam', metrics=['accuracy'])"
      ],
      "execution_count": 257,
      "outputs": []
    },
    {
      "cell_type": "code",
      "metadata": {
        "colab": {
          "base_uri": "https://localhost:8080/"
        },
        "id": "rGvxcmTG2qAm",
        "outputId": "0588a29e-b72e-4fc9-90bc-abf85a33d291"
      },
      "source": [
        "nn.summary()"
      ],
      "execution_count": 258,
      "outputs": [
        {
          "output_type": "stream",
          "text": [
            "Model: \"sequential_1\"\n",
            "_________________________________________________________________\n",
            "Layer (type)                 Output Shape              Param #   \n",
            "=================================================================\n",
            "dense_2 (Dense)              (None, 8)                 296       \n",
            "_________________________________________________________________\n",
            "activation_2 (Activation)    (None, 8)                 0         \n",
            "_________________________________________________________________\n",
            "dense_3 (Dense)              (None, 7)                 63        \n",
            "_________________________________________________________________\n",
            "activation_3 (Activation)    (None, 7)                 0         \n",
            "=================================================================\n",
            "Total params: 359\n",
            "Trainable params: 359\n",
            "Non-trainable params: 0\n",
            "_________________________________________________________________\n"
          ],
          "name": "stdout"
        }
      ]
    },
    {
      "cell_type": "code",
      "metadata": {
        "colab": {
          "base_uri": "https://localhost:8080/"
        },
        "id": "vSpqFJHN2rjB",
        "outputId": "576a36da-58f7-4bab-ead5-d08bbd0b342a"
      },
      "source": [
        "nn_history = nn.fit(train_x, train_y, batch_size=10, epochs=100, verbose=2, validation_data=(test_x, test_y))"
      ],
      "execution_count": 259,
      "outputs": [
        {
          "output_type": "stream",
          "text": [
            "Epoch 1/100\n",
            "8/8 - 1s - loss: 2.0931 - accuracy: 0.0667 - val_loss: 2.0585 - val_accuracy: 0.0000e+00\n",
            "Epoch 2/100\n",
            "8/8 - 0s - loss: 2.0422 - accuracy: 0.0667 - val_loss: 2.0104 - val_accuracy: 0.0000e+00\n",
            "Epoch 3/100\n",
            "8/8 - 0s - loss: 1.9941 - accuracy: 0.0667 - val_loss: 1.9663 - val_accuracy: 0.0000e+00\n",
            "Epoch 4/100\n",
            "8/8 - 0s - loss: 1.9495 - accuracy: 0.0667 - val_loss: 1.9235 - val_accuracy: 0.0000e+00\n",
            "Epoch 5/100\n",
            "8/8 - 0s - loss: 1.9107 - accuracy: 0.0667 - val_loss: 1.8827 - val_accuracy: 0.0000e+00\n",
            "Epoch 6/100\n",
            "8/8 - 0s - loss: 1.8717 - accuracy: 0.1600 - val_loss: 1.8449 - val_accuracy: 0.1154\n",
            "Epoch 7/100\n",
            "8/8 - 0s - loss: 1.8358 - accuracy: 0.3067 - val_loss: 1.8096 - val_accuracy: 0.3462\n",
            "Epoch 8/100\n",
            "8/8 - 0s - loss: 1.8023 - accuracy: 0.3733 - val_loss: 1.7769 - val_accuracy: 0.4615\n",
            "Epoch 9/100\n",
            "8/8 - 0s - loss: 1.7709 - accuracy: 0.3867 - val_loss: 1.7468 - val_accuracy: 0.4615\n",
            "Epoch 10/100\n",
            "8/8 - 0s - loss: 1.7431 - accuracy: 0.3867 - val_loss: 1.7179 - val_accuracy: 0.4615\n",
            "Epoch 11/100\n",
            "8/8 - 0s - loss: 1.7147 - accuracy: 0.3867 - val_loss: 1.6906 - val_accuracy: 0.4615\n",
            "Epoch 12/100\n",
            "8/8 - 0s - loss: 1.6884 - accuracy: 0.3867 - val_loss: 1.6640 - val_accuracy: 0.4615\n",
            "Epoch 13/100\n",
            "8/8 - 0s - loss: 1.6649 - accuracy: 0.3867 - val_loss: 1.6396 - val_accuracy: 0.4615\n",
            "Epoch 14/100\n",
            "8/8 - 0s - loss: 1.6398 - accuracy: 0.3867 - val_loss: 1.6163 - val_accuracy: 0.4615\n",
            "Epoch 15/100\n",
            "8/8 - 0s - loss: 1.6176 - accuracy: 0.3867 - val_loss: 1.5935 - val_accuracy: 0.4615\n",
            "Epoch 16/100\n",
            "8/8 - 0s - loss: 1.5966 - accuracy: 0.3867 - val_loss: 1.5721 - val_accuracy: 0.4615\n",
            "Epoch 17/100\n",
            "8/8 - 0s - loss: 1.5750 - accuracy: 0.3867 - val_loss: 1.5536 - val_accuracy: 0.4615\n",
            "Epoch 18/100\n",
            "8/8 - 0s - loss: 1.5558 - accuracy: 0.3867 - val_loss: 1.5338 - val_accuracy: 0.4615\n",
            "Epoch 19/100\n",
            "8/8 - 0s - loss: 1.5369 - accuracy: 0.3867 - val_loss: 1.5147 - val_accuracy: 0.4615\n",
            "Epoch 20/100\n",
            "8/8 - 0s - loss: 1.5189 - accuracy: 0.3867 - val_loss: 1.4961 - val_accuracy: 0.4615\n",
            "Epoch 21/100\n",
            "8/8 - 0s - loss: 1.5005 - accuracy: 0.3867 - val_loss: 1.4777 - val_accuracy: 0.4615\n",
            "Epoch 22/100\n",
            "8/8 - 0s - loss: 1.4827 - accuracy: 0.3867 - val_loss: 1.4604 - val_accuracy: 0.4615\n",
            "Epoch 23/100\n",
            "8/8 - 0s - loss: 1.4650 - accuracy: 0.3867 - val_loss: 1.4438 - val_accuracy: 0.4615\n",
            "Epoch 24/100\n",
            "8/8 - 0s - loss: 1.4482 - accuracy: 0.3867 - val_loss: 1.4276 - val_accuracy: 0.4615\n",
            "Epoch 25/100\n",
            "8/8 - 0s - loss: 1.4320 - accuracy: 0.3867 - val_loss: 1.4106 - val_accuracy: 0.4615\n",
            "Epoch 26/100\n",
            "8/8 - 0s - loss: 1.4155 - accuracy: 0.3867 - val_loss: 1.3946 - val_accuracy: 0.4615\n",
            "Epoch 27/100\n",
            "8/8 - 0s - loss: 1.3990 - accuracy: 0.3867 - val_loss: 1.3792 - val_accuracy: 0.5385\n",
            "Epoch 28/100\n",
            "8/8 - 0s - loss: 1.3836 - accuracy: 0.4533 - val_loss: 1.3633 - val_accuracy: 0.5385\n",
            "Epoch 29/100\n",
            "8/8 - 0s - loss: 1.3677 - accuracy: 0.4533 - val_loss: 1.3483 - val_accuracy: 0.5385\n",
            "Epoch 30/100\n",
            "8/8 - 0s - loss: 1.3522 - accuracy: 0.4933 - val_loss: 1.3340 - val_accuracy: 0.6154\n",
            "Epoch 31/100\n",
            "8/8 - 0s - loss: 1.3375 - accuracy: 0.5067 - val_loss: 1.3188 - val_accuracy: 0.6154\n",
            "Epoch 32/100\n",
            "8/8 - 0s - loss: 1.3214 - accuracy: 0.5067 - val_loss: 1.3046 - val_accuracy: 0.6154\n",
            "Epoch 33/100\n",
            "8/8 - 0s - loss: 1.3063 - accuracy: 0.5067 - val_loss: 1.2900 - val_accuracy: 0.6154\n",
            "Epoch 34/100\n",
            "8/8 - 0s - loss: 1.2912 - accuracy: 0.5200 - val_loss: 1.2758 - val_accuracy: 0.6154\n",
            "Epoch 35/100\n",
            "8/8 - 0s - loss: 1.2764 - accuracy: 0.5200 - val_loss: 1.2604 - val_accuracy: 0.6154\n",
            "Epoch 36/100\n",
            "8/8 - 0s - loss: 1.2613 - accuracy: 0.5333 - val_loss: 1.2453 - val_accuracy: 0.6154\n",
            "Epoch 37/100\n",
            "8/8 - 0s - loss: 1.2465 - accuracy: 0.5333 - val_loss: 1.2310 - val_accuracy: 0.6154\n",
            "Epoch 38/100\n",
            "8/8 - 0s - loss: 1.2318 - accuracy: 0.5867 - val_loss: 1.2159 - val_accuracy: 0.6538\n",
            "Epoch 39/100\n",
            "8/8 - 0s - loss: 1.2181 - accuracy: 0.6267 - val_loss: 1.2026 - val_accuracy: 0.6538\n",
            "Epoch 40/100\n",
            "8/8 - 0s - loss: 1.2037 - accuracy: 0.6400 - val_loss: 1.1898 - val_accuracy: 0.6538\n",
            "Epoch 41/100\n",
            "8/8 - 0s - loss: 1.1902 - accuracy: 0.6667 - val_loss: 1.1769 - val_accuracy: 0.6538\n",
            "Epoch 42/100\n",
            "8/8 - 0s - loss: 1.1766 - accuracy: 0.6667 - val_loss: 1.1635 - val_accuracy: 0.6538\n",
            "Epoch 43/100\n",
            "8/8 - 0s - loss: 1.1635 - accuracy: 0.6667 - val_loss: 1.1503 - val_accuracy: 0.6538\n",
            "Epoch 44/100\n",
            "8/8 - 0s - loss: 1.1504 - accuracy: 0.6667 - val_loss: 1.1381 - val_accuracy: 0.6538\n",
            "Epoch 45/100\n",
            "8/8 - 0s - loss: 1.1373 - accuracy: 0.6667 - val_loss: 1.1258 - val_accuracy: 0.6538\n",
            "Epoch 46/100\n",
            "8/8 - 0s - loss: 1.1249 - accuracy: 0.6667 - val_loss: 1.1134 - val_accuracy: 0.6538\n",
            "Epoch 47/100\n",
            "8/8 - 0s - loss: 1.1128 - accuracy: 0.6800 - val_loss: 1.1028 - val_accuracy: 0.6538\n",
            "Epoch 48/100\n",
            "8/8 - 0s - loss: 1.1004 - accuracy: 0.6800 - val_loss: 1.0919 - val_accuracy: 0.6538\n",
            "Epoch 49/100\n",
            "8/8 - 0s - loss: 1.0892 - accuracy: 0.6800 - val_loss: 1.0813 - val_accuracy: 0.6538\n",
            "Epoch 50/100\n",
            "8/8 - 0s - loss: 1.0772 - accuracy: 0.6933 - val_loss: 1.0710 - val_accuracy: 0.7308\n",
            "Epoch 51/100\n",
            "8/8 - 0s - loss: 1.0661 - accuracy: 0.7067 - val_loss: 1.0600 - val_accuracy: 0.7308\n",
            "Epoch 52/100\n",
            "8/8 - 0s - loss: 1.0552 - accuracy: 0.7067 - val_loss: 1.0498 - val_accuracy: 0.7692\n",
            "Epoch 53/100\n",
            "8/8 - 0s - loss: 1.0440 - accuracy: 0.7067 - val_loss: 1.0406 - val_accuracy: 0.7692\n",
            "Epoch 54/100\n",
            "8/8 - 0s - loss: 1.0340 - accuracy: 0.7200 - val_loss: 1.0317 - val_accuracy: 0.7692\n",
            "Epoch 55/100\n",
            "8/8 - 0s - loss: 1.0231 - accuracy: 0.7200 - val_loss: 1.0225 - val_accuracy: 0.7692\n",
            "Epoch 56/100\n",
            "8/8 - 0s - loss: 1.0131 - accuracy: 0.7200 - val_loss: 1.0131 - val_accuracy: 0.7692\n",
            "Epoch 57/100\n",
            "8/8 - 0s - loss: 1.0033 - accuracy: 0.7200 - val_loss: 1.0034 - val_accuracy: 0.7692\n",
            "Epoch 58/100\n",
            "8/8 - 0s - loss: 0.9938 - accuracy: 0.7200 - val_loss: 0.9947 - val_accuracy: 0.7692\n",
            "Epoch 59/100\n",
            "8/8 - 0s - loss: 0.9842 - accuracy: 0.7200 - val_loss: 0.9878 - val_accuracy: 0.7692\n",
            "Epoch 60/100\n",
            "8/8 - 0s - loss: 0.9749 - accuracy: 0.7200 - val_loss: 0.9796 - val_accuracy: 0.7692\n",
            "Epoch 61/100\n",
            "8/8 - 0s - loss: 0.9658 - accuracy: 0.7200 - val_loss: 0.9717 - val_accuracy: 0.7692\n",
            "Epoch 62/100\n",
            "8/8 - 0s - loss: 0.9572 - accuracy: 0.7200 - val_loss: 0.9644 - val_accuracy: 0.7692\n",
            "Epoch 63/100\n",
            "8/8 - 0s - loss: 0.9483 - accuracy: 0.7200 - val_loss: 0.9572 - val_accuracy: 0.7692\n",
            "Epoch 64/100\n",
            "8/8 - 0s - loss: 0.9398 - accuracy: 0.7200 - val_loss: 0.9498 - val_accuracy: 0.7692\n",
            "Epoch 65/100\n",
            "8/8 - 0s - loss: 0.9308 - accuracy: 0.7200 - val_loss: 0.9433 - val_accuracy: 0.7692\n",
            "Epoch 66/100\n",
            "8/8 - 0s - loss: 0.9227 - accuracy: 0.7200 - val_loss: 0.9357 - val_accuracy: 0.7692\n",
            "Epoch 67/100\n",
            "8/8 - 0s - loss: 0.9143 - accuracy: 0.7200 - val_loss: 0.9282 - val_accuracy: 0.7692\n",
            "Epoch 68/100\n",
            "8/8 - 0s - loss: 0.9062 - accuracy: 0.7200 - val_loss: 0.9219 - val_accuracy: 0.7692\n",
            "Epoch 69/100\n",
            "8/8 - 0s - loss: 0.8985 - accuracy: 0.7200 - val_loss: 0.9153 - val_accuracy: 0.7692\n",
            "Epoch 70/100\n",
            "8/8 - 0s - loss: 0.8906 - accuracy: 0.7333 - val_loss: 0.9080 - val_accuracy: 0.7692\n",
            "Epoch 71/100\n",
            "8/8 - 0s - loss: 0.8825 - accuracy: 0.7333 - val_loss: 0.9014 - val_accuracy: 0.7692\n",
            "Epoch 72/100\n",
            "8/8 - 0s - loss: 0.8751 - accuracy: 0.7600 - val_loss: 0.8956 - val_accuracy: 0.7692\n",
            "Epoch 73/100\n",
            "8/8 - 0s - loss: 0.8673 - accuracy: 0.7733 - val_loss: 0.8899 - val_accuracy: 0.7692\n",
            "Epoch 74/100\n",
            "8/8 - 0s - loss: 0.8602 - accuracy: 0.7867 - val_loss: 0.8846 - val_accuracy: 0.7692\n",
            "Epoch 75/100\n",
            "8/8 - 0s - loss: 0.8525 - accuracy: 0.8000 - val_loss: 0.8788 - val_accuracy: 0.7692\n",
            "Epoch 76/100\n",
            "8/8 - 0s - loss: 0.8460 - accuracy: 0.8000 - val_loss: 0.8730 - val_accuracy: 0.7692\n",
            "Epoch 77/100\n",
            "8/8 - 0s - loss: 0.8384 - accuracy: 0.8000 - val_loss: 0.8662 - val_accuracy: 0.7692\n",
            "Epoch 78/100\n",
            "8/8 - 0s - loss: 0.8314 - accuracy: 0.8000 - val_loss: 0.8605 - val_accuracy: 0.7692\n",
            "Epoch 79/100\n",
            "8/8 - 0s - loss: 0.8247 - accuracy: 0.8000 - val_loss: 0.8548 - val_accuracy: 0.7692\n",
            "Epoch 80/100\n",
            "8/8 - 0s - loss: 0.8176 - accuracy: 0.8400 - val_loss: 0.8493 - val_accuracy: 0.7692\n",
            "Epoch 81/100\n",
            "8/8 - 0s - loss: 0.8113 - accuracy: 0.8400 - val_loss: 0.8444 - val_accuracy: 0.7692\n",
            "Epoch 82/100\n",
            "8/8 - 0s - loss: 0.8040 - accuracy: 0.8400 - val_loss: 0.8382 - val_accuracy: 0.7692\n",
            "Epoch 83/100\n",
            "8/8 - 0s - loss: 0.7974 - accuracy: 0.8400 - val_loss: 0.8321 - val_accuracy: 0.7692\n",
            "Epoch 84/100\n",
            "8/8 - 0s - loss: 0.7909 - accuracy: 0.8400 - val_loss: 0.8263 - val_accuracy: 0.7692\n",
            "Epoch 85/100\n",
            "8/8 - 0s - loss: 0.7845 - accuracy: 0.8400 - val_loss: 0.8209 - val_accuracy: 0.8077\n",
            "Epoch 86/100\n",
            "8/8 - 0s - loss: 0.7781 - accuracy: 0.8400 - val_loss: 0.8151 - val_accuracy: 0.8077\n",
            "Epoch 87/100\n",
            "8/8 - 0s - loss: 0.7720 - accuracy: 0.8400 - val_loss: 0.8091 - val_accuracy: 0.8077\n",
            "Epoch 88/100\n",
            "8/8 - 0s - loss: 0.7658 - accuracy: 0.8400 - val_loss: 0.8045 - val_accuracy: 0.8077\n",
            "Epoch 89/100\n",
            "8/8 - 0s - loss: 0.7599 - accuracy: 0.8533 - val_loss: 0.8001 - val_accuracy: 0.8077\n",
            "Epoch 90/100\n",
            "8/8 - 0s - loss: 0.7541 - accuracy: 0.8533 - val_loss: 0.7955 - val_accuracy: 0.8077\n",
            "Epoch 91/100\n",
            "8/8 - 0s - loss: 0.7477 - accuracy: 0.8533 - val_loss: 0.7895 - val_accuracy: 0.8077\n",
            "Epoch 92/100\n",
            "8/8 - 0s - loss: 0.7421 - accuracy: 0.8533 - val_loss: 0.7843 - val_accuracy: 0.8077\n",
            "Epoch 93/100\n",
            "8/8 - 0s - loss: 0.7361 - accuracy: 0.8533 - val_loss: 0.7799 - val_accuracy: 0.8077\n",
            "Epoch 94/100\n",
            "8/8 - 0s - loss: 0.7305 - accuracy: 0.8533 - val_loss: 0.7744 - val_accuracy: 0.8462\n",
            "Epoch 95/100\n",
            "8/8 - 0s - loss: 0.7248 - accuracy: 0.8667 - val_loss: 0.7691 - val_accuracy: 0.8462\n",
            "Epoch 96/100\n",
            "8/8 - 0s - loss: 0.7193 - accuracy: 0.8667 - val_loss: 0.7645 - val_accuracy: 0.8462\n",
            "Epoch 97/100\n",
            "8/8 - 0s - loss: 0.7136 - accuracy: 0.8667 - val_loss: 0.7596 - val_accuracy: 0.8462\n",
            "Epoch 98/100\n",
            "8/8 - 0s - loss: 0.7084 - accuracy: 0.8800 - val_loss: 0.7543 - val_accuracy: 0.8462\n",
            "Epoch 99/100\n",
            "8/8 - 0s - loss: 0.7028 - accuracy: 0.8800 - val_loss: 0.7496 - val_accuracy: 0.8462\n",
            "Epoch 100/100\n",
            "8/8 - 0s - loss: 0.6976 - accuracy: 0.8800 - val_loss: 0.7453 - val_accuracy: 0.8462\n"
          ],
          "name": "stdout"
        }
      ]
    },
    {
      "cell_type": "code",
      "metadata": {
        "id": "HVTkY6sV2wTc"
      },
      "source": [
        "# Create predictions using the neural network\r\n",
        "nn_pred = nn.predict(test_x, batch_size=128) # This will keep probabilities for each classification\r\n",
        "nn_pred_max = np.argmax(nn_pred, axis=1)"
      ],
      "execution_count": 260,
      "outputs": []
    },
    {
      "cell_type": "code",
      "metadata": {
        "colab": {
          "base_uri": "https://localhost:8080/"
        },
        "id": "KgiytLDR3JaG",
        "outputId": "508a552a-e9f8-41c6-904b-87c873acc9ba"
      },
      "source": [
        "# Calculate the confusion matrix of real vs. NN predictions\r\n",
        "cm = tf.math.confusion_matrix(test_y_max, nn_pred_max, num_classes=num_classes)\r\n",
        "cm"
      ],
      "execution_count": 261,
      "outputs": [
        {
          "output_type": "execute_result",
          "data": {
            "text/plain": [
              "<tf.Tensor: shape=(7, 7), dtype=int32, numpy=\n",
              "array([[12,  0,  0,  0,  0,  0,  0],\n",
              "       [ 0,  5,  0,  0,  0,  0,  0],\n",
              "       [ 0,  0,  0,  0,  0,  0,  0],\n",
              "       [ 0,  0,  0,  3,  0,  0,  0],\n",
              "       [ 2,  0,  0,  0,  0,  0,  0],\n",
              "       [ 0,  0,  0,  0,  0,  0,  0],\n",
              "       [ 0,  1,  0,  0,  0,  1,  2]], dtype=int32)>"
            ]
          },
          "metadata": {
            "tags": []
          },
          "execution_count": 261
        }
      ]
    },
    {
      "cell_type": "code",
      "metadata": {
        "colab": {
          "base_uri": "https://localhost:8080/",
          "height": 467
        },
        "id": "7QAdjiP46qIG",
        "outputId": "20533136-00bd-4628-8b1a-e3a189794e77"
      },
      "source": [
        "plot_confusion_matrix(cm=cm.numpy(), target_names=range(num_classes), normalize=False, cmap=plt.cm.Blues, title='Confusion Matrix - Dense Neural Network')"
      ],
      "execution_count": 262,
      "outputs": [
        {
          "output_type": "display_data",
          "data": {
            "image/png": "[encoded data removed]",
            "text/plain": [
              "<Figure size 576x432 with 2 Axes>"
            ]
          },
          "metadata": {
            "tags": [],
            "needs_background": "light"
          }
        }
      ]
    },
    {
      "cell_type": "markdown",
      "metadata": {
        "id": "sYG4VPlP7Pox"
      },
      "source": [
        "### Model: Random Forest Classification\r\n",
        "\r\n",
        "Random Forest Classification is a specialized algorithm designed to tackle multi-label classification problems by creating a vast \"forest\" of `n` decision trees. A decision tree is a flowchart-esque model where an input starts at the root of the tree, processes the current node's decision using the input, and the progress to the specific child node depending on the decision's result until a predicted classification is given.\r\n",
        "\r\n",
        "![](https://i.imgur.com/DYxQmRb.png)\r\n",
        "\r\n",
        "This notebook creates a variety of random forests each with a different number of trees (n=1,10,25,...). A confusion matrix will be generated to determine the performance of the random forest algorithm for each given `n`."
      ]
    },
    {
      "cell_type": "code",
      "metadata": {
        "id": "7hTgroW_7rjv"
      },
      "source": [
        "from sklearn.ensemble import RandomForestClassifier"
      ],
      "execution_count": 263,
      "outputs": []
    },
    {
      "cell_type": "code",
      "metadata": {
        "id": "XB9WC6Zf7mI9"
      },
      "source": [
        "# Create forests with a variety of trees\r\n",
        "n = [1,10,25,50,100] # The different random forests and their respective n\r\n",
        "forests = {}\r\n",
        "for i in n:\r\n",
        "  forests[i] = RandomForestClassifier(n_estimators=i, random_state=0)\r\n",
        "  forests[i].fit(train_x, train_y)"
      ],
      "execution_count": 264,
      "outputs": []
    },
    {
      "cell_type": "code",
      "metadata": {
        "colab": {
          "base_uri": "https://localhost:8080/",
          "height": 1000
        },
        "id": "2GuPdaoW7wmS",
        "outputId": "60114dd8-e46b-43db-ffa9-3baa5c7804bc"
      },
      "source": [
        "# Iterate over all forests\r\n",
        "for i in n:\r\n",
        "  # Create the prediction using the random forest \r\n",
        "  forests_pred = np.argmax(forests[i].predict(test_x), axis=1)\r\n",
        "\r\n",
        "  # Plot the confusion matrix for the random forest\r\n",
        "  cm = tf.math.confusion_matrix(test_y_max, forests_pred, num_classes=num_classes)\r\n",
        "  plot_confusion_matrix(cm=cm.numpy(), target_names=range(num_classes), normalize=False, cmap=plt.cm.Blues, title='Confusion Matrix - Random Forest (n={})'.format(i))\r\n",
        "\r\n",
        "plt.show()"
      ],
      "execution_count": 265,
      "outputs": [
        {
          "output_type": "display_data",
          "data": {
            "image/png": "[encoded data removed]",
            "text/plain": [
              "<Figure size 576x432 with 2 Axes>"
            ]
          },
          "metadata": {
            "tags": [],
            "needs_background": "light"
          }
        },
        {
          "output_type": "display_data",
          "data": {
            "image/png": "[encoded data removed]",
            "text/plain": [
              "<Figure size 576x432 with 2 Axes>"
            ]
          },
          "metadata": {
            "tags": [],
            "needs_background": "light"
          }
        },
        {
          "output_type": "display_data",
          "data": {
            "image/png": "[encoded data removed]",
            "text/plain": [
              "<Figure size 576x432 with 2 Axes>"
            ]
          },
          "metadata": {
            "tags": [],
            "needs_background": "light"
          }
        },
        {
          "output_type": "display_data",
          "data": {
            "image/png": "[encoded data removed]",
            "text/plain": [
              "<Figure size 576x432 with 2 Axes>"
            ]
          },
          "metadata": {
            "tags": [],
            "needs_background": "light"
          }
        },
        {
          "output_type": "display_data",
          "data": {
            "image/png": "[encoded data removed]",
            "text/plain": [
              "<Figure size 576x432 with 2 Axes>"
            ]
          },
          "metadata": {
            "tags": [],
            "needs_background": "light"
          }
        }
      ]
    },
    {
      "cell_type": "markdown",
      "metadata": {
        "id": "AAr9BOWZ8WHg"
      },
      "source": [
        "Compared to the MNIST digit problem, this dataset performs better for this problem. Perhaps image analysis problems, or rather large input vectors, do not perform well on random forest classifiers. It would require more experience and possibly a case study into the **performance of random forest classifiers** as the **dimension of the input vector increases**."
      ]
    },
    {
      "cell_type": "markdown",
      "metadata": {
        "id": "9r1MmOCR7TlL"
      },
      "source": [
        "### Model: XGBoost\r\n",
        "\r\n",
        "Similar to Random Forest Classification, [XGBoost](https://xgboost.readthedocs.io/en/latest/) employs an array of decision trees in an attempt to classify inputs. However, XGBoost goes a step further an incorporates complex algorithms, such as graident boosting and regularization, to increase the performance of the model. XGBoost is the more modern approach to this type of classification algorithm and, in theory, will provide better results than that of the Random Forest Classification algorithm.\r\n",
        "\r\n",
        "![](https://i.imgur.com/dO3F1BS.png)"
      ]
    },
    {
      "cell_type": "code",
      "metadata": {
        "id": "Tvi70phx8wZ4"
      },
      "source": [
        "import xgboost as xgb"
      ],
      "execution_count": 266,
      "outputs": []
    },
    {
      "cell_type": "code",
      "metadata": {
        "id": "m7nhCYvW8wzC"
      },
      "source": [
        "# Create XGBoost matrices for training and testing data\r\n",
        "xgb_train = xgb.DMatrix(train_x, label=train_y_max)\r\n",
        "xgb_test = xgb.DMatrix(test_x, label=test_y_max)"
      ],
      "execution_count": 267,
      "outputs": []
    },
    {
      "cell_type": "code",
      "metadata": {
        "id": "zRy98pqe9WSz"
      },
      "source": [
        "# Create param dictionary\r\n",
        "param = {\r\n",
        "    'max_depth': 5,\r\n",
        "    'eta': 0.3,\r\n",
        "    'silent': 0,\r\n",
        "    'objective': 'multi:softmax',\r\n",
        "    'num_class': num_classes\r\n",
        "}\r\n",
        "xgb_epochs = 500\r\n",
        "\r\n",
        "# Train the model\r\n",
        "xgb_model = xgb.train(param, xgb_train, xgb_epochs)"
      ],
      "execution_count": 268,
      "outputs": []
    },
    {
      "cell_type": "code",
      "metadata": {
        "id": "48_nwf-e9b_p"
      },
      "source": [
        "# Create the XGBoost predictions\r\n",
        "xgb_pred = xgb_model.predict(xgb_test)"
      ],
      "execution_count": 269,
      "outputs": []
    },
    {
      "cell_type": "code",
      "metadata": {
        "colab": {
          "base_uri": "https://localhost:8080/",
          "height": 467
        },
        "id": "-xOFj51u9dAN",
        "outputId": "e9f2f3d2-a936-4d07-aec7-7b49b9b96610"
      },
      "source": [
        "# Plot the XGBoost confusion matrix\r\n",
        "cm = tf.math.confusion_matrix(test_y_max, xgb_pred, num_classes=num_classes)\r\n",
        "plot_confusion_matrix(cm=cm.numpy(), target_names=range(num_classes), normalize=False, cmap=plt.cm.Blues, title='Confusion Matrix - XGBoost')\r\n",
        "plt.show()"
      ],
      "execution_count": 270,
      "outputs": [
        {
          "output_type": "display_data",
          "data": {
            "image/png": "[encoded data removed]",
            "text/plain": [
              "<Figure size 576x432 with 2 Axes>"
            ]
          },
          "metadata": {
            "tags": [],
            "needs_background": "light"
          }
        }
      ]
    },
    {
      "cell_type": "markdown",
      "metadata": {
        "id": "GD2LLPlr_tGD"
      },
      "source": [
        "### Final Thoughts\r\n",
        "\r\n",
        "XGBoost seems like the go-to algorithm for modern machine learning. It's extremely adaptive, performs well on a variety of problems, but may have long training times on larger datasets. \r\n",
        "\r\n",
        "For the scope of this notebook (and possibly similar level problems), XGBoost is an ideal algorithm for the most hands off machine learning approach. However, the possibilities of the TensorFlow library are seemingly endless. The models a developer can create using the library will out perform XGBoost in the long run. However, TensorFlow is a very extensive and complex library. Not only does the developer have to understand machine learning concepts, the developer must have a grasp on the underlying mathematics involving tensors and multi-dimensional problems."
      ]
    }
  ]
}